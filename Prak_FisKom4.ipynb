{
  "nbformat": 4,
  "nbformat_minor": 0,
  "metadata": {
    "colab": {
      "provenance": []
    },
    "kernelspec": {
      "name": "python3",
      "display_name": "Python 3"
    },
    "language_info": {
      "name": "python"
    }
  },
  "cells": [
    {
      "cell_type": "code",
      "execution_count": 4,
      "metadata": {
        "colab": {
          "base_uri": "https://localhost:8080/"
        },
        "id": "fNjFfkRAsLN0",
        "outputId": "3c986f8f-a679-477f-d971-abfa325ef61e"
      },
      "outputs": [
        {
          "output_type": "stream",
          "name": "stdout",
          "text": [
            "determinant:\n",
            " -2.0000000000000004\n",
            "inverse_of_M:\n",
            " [[ 0.0872093   0.04263566]\n",
            " [-0.00581395  0.01937984]]\n",
            "Condition number:\n",
            " 1.0000000002\n",
            "Rank:\n",
            " 2\n",
            "Augmented matrix:\n",
            " [[1 2 5]\n",
            " [3 4 6]]\n",
            "Matriks:\n",
            "[[1 2 3]\n",
            " [4 5 6]\n",
            " [7 8 9]]\n",
            "Peringkat Matriks: 2\n",
            "Dimensi Ruang Nol: 1\n"
          ]
        }
      ],
      "source": [
        "#Soal No.1\n",
        "import numpy as np\n",
        "\n",
        "# Membuat matriks 2x2\n",
        "M = np.array([[1, 2], [3, 4]])\n",
        "\n",
        "# Menghitung determinan matriks\n",
        "determinant = np.linalg.det(M)\n",
        "\n",
        "print('determinant:\\n', determinant)\n",
        "\n",
        "#Soal No.2\n",
        "# Membuat matriks 2x2\n",
        "M = np.array([[10, -22], [3, 45]])\n",
        "\n",
        "# Menghitung invers matriks\n",
        "inverse_of_M = np.linalg.inv(M)\n",
        "\n",
        "print('inverse_of_M:\\n', inverse_of_M)\n",
        "\n",
        "#Soal No.3\n",
        "from numpy.linalg import \\\n",
        "              cond\n",
        "A = np.array([[1,10**-10],\n",
        "              [10**-10,1]])\n",
        "print('Condition number:\\n', cond(A))\n",
        "\n",
        "#Soal No.4\n",
        "from numpy.linalg import \\\n",
        "              matrix_rank\n",
        "A = np.array([[1,2],\n",
        "              [3,4]])\n",
        "print('Rank:\\n', matrix_rank(A))\n",
        "b = np.array([[5], [6]])\n",
        "A_b = np.concatenate((A, b), axis = 1)\n",
        "print('Augmented matrix:\\n', A_b)\n",
        "\n",
        "#Soal No.5\n",
        "# Tentukan matriks Anda (contoh matriks 3x3)\n",
        "A = np.array([[1, 2, 3],\n",
        "                  [4, 5, 6],\n",
        "                  [7, 8, 9]])\n",
        "\n",
        "# Hitung peringkat matriks\n",
        "rank = np.linalg.matrix_rank(A)\n",
        "\n",
        "# Hitung dimensi ruang nol\n",
        "num_columns = A.shape[1]\n",
        "nullity = num_columns - rank\n",
        "\n",
        "# Cetak hasil\n",
        "print(\"Matriks:\")\n",
        "print(A)\n",
        "print(\"Peringkat Matriks:\", rank)\n",
        "print(\"Dimensi Ruang Nol:\", nullity)"
      ]
    }
  ]
}